import Pandas as pd 

import os 

path=os.path.join("Resources,"cities.csv")

citiescsv=pandas.read_csv(path)

citiescsv.to_html("table.html", index=False, classes=["table", "table-strife", "table-hover"])





